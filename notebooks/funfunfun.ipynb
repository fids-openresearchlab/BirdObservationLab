{
 "cells": [
  {
   "cell_type": "code",
   "execution_count": 19,
   "outputs": [],
   "source": [
    "import socket\n",
    "\n",
    "text= \"\"\"\n",
    "page 10000ms\n",
    "00\n",
    "10     Möwe 1: How much is the Fish?\n",
    "10     Möwe 2: HYPER HYPER!\n",
    "04\n",
    "10     Möwe 1: Oh yeah! I love it HARDCORE!\n",
    "10     Möwe 2: HYPER HYPER!\n",
    "04\n",
    "10     Möwe 1: Bin ich im Fernsehen?\n",
    "10     Möwe 2: Nein, aber trotzdem Geil! Läuft!\n",
    "04\n",
    "10     Piepmatz: Darf ich mit HYPERN?\n",
    "10     Möwe 1 & Möwe 2: Klaro lasst uns alle gemeinsam Hypern!!!\n",
    "05\n",
    "page 10000ms\n",
    "00\n",
    "10     Möwe 1, Möwe 2 und der Piepmatz: HYPER HYPER!HYPER HYPER!HYPER HYPER!\n",
    "10     Möwe 1, Möwe 2 und der Piepmatz: HYPER HYPER!HYPER HYPER!HYPER HYPER!\n",
    "04\n",
    "10     Möwe 1, Möwe 2 und der Piepmatz: HYPER HYPER!HYPER HYPER!HYPER HYPER!\n",
    "10     Möwe 1, Möwe 2 und der Piepmatz: HYPER HYPER!HYPER HYPER!HYPER HYPER!\n",
    "04\n",
    "10     Möwe 1, Möwe 2 und der Piepmatz: HYPER HYPER!HYPER HYPER!HYPER HYPER!\n",
    "10     Möwe 1, Möwe 2 und der Piepmatz: HYPER HYPER!HYPER HYPER!HYPER HYPER!\n",
    "04\n",
    "10     Möwe 1, Möwe 2 und der Piepmatz: HYPER HYPER!HYPER HYPER!HYPER HYPER!\n",
    "10     Möwe 1, Möwe 2 und der Piepmatz: HYPER HYPER!HYPER HYPER!HYPER HYPER!\n",
    "05\n",
    "end\n",
    "\n",
    "\"\"\"\n",
    "text_binary_converted = bytes(text, \"utf-8\")\n",
    "\n",
    "\n",
    "\n",
    "#host = \"51.195.44.112\"\n",
    "host = \"51.195.44.112\"\n",
    "port = 1234\n",
    "s = socket.socket(socket.AF_INET, socket.SOCK_STREAM)\n",
    "s.connect((host, port))\n",
    "s.sendall(text_binary_converted)\n",
    "s.close()"
   ],
   "metadata": {
    "collapsed": false,
    "pycharm": {
     "name": "#%%\n"
    }
   }
  },
  {
   "cell_type": "code",
   "execution_count": 1,
   "outputs": [],
   "source": [],
   "metadata": {
    "collapsed": false,
    "pycharm": {
     "name": "#%%\n"
    }
   }
  }
 ],
 "metadata": {
  "kernelspec": {
   "display_name": "Python 3",
   "language": "python",
   "name": "python3"
  },
  "language_info": {
   "codemirror_mode": {
    "name": "ipython",
    "version": 2
   },
   "file_extension": ".py",
   "mimetype": "text/x-python",
   "name": "python",
   "nbconvert_exporter": "python",
   "pygments_lexer": "ipython2",
   "version": "2.7.6"
  }
 },
 "nbformat": 4,
 "nbformat_minor": 0
}