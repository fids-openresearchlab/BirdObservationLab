{
 "cells": [
  {
   "cell_type": "markdown",
   "metadata": {
    "pycharm": {
     "name": "#%% md\n"
    }
   },
   "source": [
    "# Sequence Analysis\n"
   ]
  },
  {
   "cell_type": "code",
   "execution_count": null,
   "metadata": {
    "pycharm": {
     "name": "#%%\n"
    }
   },
   "outputs": [],
   "source": [
    "%matplotlib inline\n",
    "\n",
    "from pathlib import Path\n",
    "#from yupiwrap.tracktable import yupi2tracktable\n",
    "#from tracktable.core.geomath import length\n",
    "from typing import List\n",
    "import numpy as np\n",
    "\n",
    "import matplotlib.pyplot as plt\n",
    "from prettytable import PrettyTable\n",
    "#from tracktable.core.geomath import length, end_to_end_distance\n",
    "\n",
    "from birdwatchpy.bird_flight_analysis.trajs_plot import plot_2D\n",
    "from birdwatchpy.bird_flight_analysis.BirdFlightData import BirdFlightData\n",
    "from birdwatchpy.sequences.sequences_helper import load_sequence_from_pickle\n"
   ]
  },
  {
   "cell_type": "code",
   "execution_count": null,
   "metadata": {
    "pycharm": {
     "name": "#%%\n"
    },
    "tags": [
     "parameters"
    ]
   },
   "outputs": [],
   "source": [
    "# parameter (this parameter will be injected by papermill)\n",
    "sequence_dir_paths: List = []"
   ]
  },
  {
   "cell_type": "code",
   "execution_count": null,
   "metadata": {
    "id": "G7zSgaAWkgy7",
    "pycharm": {
     "name": "#%%\n"
    }
   },
   "outputs": [],
   "source": [
    "for sequence_path in sequence_dir_paths:\n",
    "    print(sequence_path)\n",
    "\n",
    "sequences = []\n",
    "for sequence_dir_path in sequence_dir_paths:\n",
    "    sequences.append(load_sequence_from_pickle(Path(f\"{sequence_dir_path}/{Path(sequence_dir_path).name}.sequence\")))"
   ]
  },
  {
   "cell_type": "code",
   "execution_count": 20,
   "metadata": {
    "colab": {
     "base_uri": "https://localhost:8080/"
    },
    "id": "cbcVug--kgy_",
    "outputId": "e65656f2-84f4-4b80-a8d8-22ae7f91d8d1",
    "pycharm": {
     "name": "#%%\n"
    }
   },
   "outputs": [
    {
     "name": "stdout",
     "output_type": "stream",
     "text": [
      "/home/kubus/Downloads/tmp_seq/MOT17/test/1631281579072_0008402_0008462/flight_data/dfa4d8ac-3e93-435e-8936-004e2b4a5e67.json\n",
      "HHHHH\n",
      "2398.9219763602446\n",
      "2398.9219763602446\n",
      "2403.158662591495\n",
      "2403.158662591495\n",
      "0.9982370343260307\n",
      "0.9982370343260307\n",
      "/home/kubus/Downloads/tmp_seq/MOT17/test/1631281579072_0008402_0008462/flight_data/2a30d732-8d9e-4ab8-82a2-377506f20f59.json\n",
      "HHHHH\n",
      "0.17803236131931044\n",
      "0.17803236131931044\n",
      "0.17803236131931044\n",
      "0.17803236131931044\n",
      "1.0\n",
      "1.0\n",
      "/home/kubus/Downloads/tmp_seq/MOT17/test/1631281579072_0008402_0008462/flight_data/08bc5635-81dd-43e8-be15-888159fbc56a.json\n",
      "HHHHH\n",
      "2398.9219763602446\n",
      "2398.9219763602446\n",
      "2403.158662591495\n",
      "2403.158662591495\n",
      "0.9982370343260307\n",
      "0.9982370343260307\n",
      "/home/kubus/Downloads/tmp_seq/MOT17/test/1631281579072_0008402_0008462/flight_data/f05b4ee2-cc93-4ae9-8820-8031e05a43e0.json\n",
      "HHHHH\n",
      "0.35473269253640816\n",
      "0.35473269253640816\n",
      "0.35473269253640816\n",
      "0.35473269253640816\n",
      "1.0\n",
      "1.0\n",
      "/home/kubus/Downloads/tmp_seq/MOT17/test/1631281579072_0008402_0008462/flight_data/de5b7d9f-f473-41a7-9acb-fb712167ac36.json\n",
      "HHHHH\n",
      "0.35473269253640816\n",
      "0.35473269253640816\n",
      "0.35473269253640816\n",
      "0.35473269253640816\n",
      "1.0\n",
      "1.0\n",
      "/home/kubus/Downloads/tmp_seq/MOT17/test/1631281579072_0008402_0008462/flight_data/ca35a447-098d-4a73-9bf0-e32f21497a4f.json\n",
      "HHHHH\n",
      "0.17803236131931044\n",
      "0.17803236131931044\n",
      "0.17803236131931044\n",
      "0.17803236131931044\n",
      "1.0\n",
      "1.0\n",
      "/home/kubus/Downloads/tmp_seq/MOT17/test/1631281579_0000012_0000037/flight_data/449d5045-a4c4-4505-baa8-effa63e96eeb.json\n",
      "HHHHH\n",
      "1894.3048254591376\n",
      "1894.3048254591376\n",
      "1996.2240328863902\n",
      "1996.2240328863902\n",
      "0.9489440034043248\n",
      "0.9489440034043248\n",
      "/home/kubus/Downloads/tmp_seq/MOT17/test/1631281579_0000012_0000037/flight_data/322e5877-e990-46a8-bb0b-9da28739a309.json\n",
      "HHHHH\n",
      "0.35767211855170616\n",
      "0.35767211855170616\n",
      "0.35767211855170616\n",
      "0.35767211855170616\n",
      "1.0\n",
      "1.0\n",
      "/home/kubus/Downloads/tmp_seq/MOT17/test/1631281579_0000012_0000037/flight_data/670f5ea0-f746-4270-a709-2d090dc67acb.json\n",
      "HHHHH\n",
      "1911.527061480377\n",
      "1911.527061480377\n",
      "2051.611614853002\n",
      "2051.611614853002\n",
      "0.931719750288769\n",
      "0.931719750288769\n",
      "/home/kubus/Downloads/tmp_seq/MOT17/test/1631281579_0000012_0000037/flight_data/dfa4d8ac-3e93-435e-8936-004e2b4a5e67.json\n",
      "HHHHH\n",
      "85.16398079924454\n",
      "85.16398079924454\n",
      "85.16398079924454\n",
      "85.16398079924454\n",
      "1.0\n",
      "1.0\n",
      "/home/kubus/Downloads/tmp_seq/MOT17/test/1631281579_0000012_0000037/flight_data/c783db3d-7014-4a7c-bab6-231f6f2a802e.json\n",
      "HHHHH\n",
      "0.35767211855170616\n",
      "0.35767211855170616\n",
      "0.35767211855170616\n",
      "0.35767211855170616\n",
      "1.0\n",
      "1.0\n",
      "/home/kubus/Downloads/tmp_seq/MOT17/test/1631281579_0000012_0000037/flight_data/08bc5635-81dd-43e8-be15-888159fbc56a.json\n",
      "HHHHH\n",
      "85.16398079924454\n",
      "85.16398079924454\n",
      "85.16398079924454\n",
      "85.16398079924454\n",
      "1.0\n",
      "1.0\n",
      "/home/kubus/Downloads/tmp_seq/MOT17/test/1631281579_0000012_0000037/flight_data/1d9fed6b-c62d-4623-8ac0-838c8a6ca811.json\n",
      "HHHHH\n",
      "0.001992391939638614\n",
      "0.001992391939638614\n",
      "0.001992391939638614\n",
      "0.001992391939638614\n",
      "1.0\n",
      "1.0\n",
      "/home/kubus/Downloads/tmp_seq/MOT17/test/1631281579_0000012_0000037/flight_data/6c403f70-86f0-490b-a335-e699f9814bf6.json\n",
      "HHHHH\n",
      "0.001992391939638614\n",
      "0.001992391939638614\n",
      "0.001992391939638614\n",
      "0.001992391939638614\n",
      "1.0\n",
      "1.0\n",
      "/home/kubus/Downloads/tmp_seq/MOT17/test/1631281579_0000012_0000037/flight_data/9a986661-2433-48fc-8285-5e53cd48c04d.json\n",
      "HHHHH\n",
      "1911.527061480377\n",
      "1911.527061480377\n",
      "2051.611614853002\n",
      "2051.611614853002\n",
      "0.931719750288769\n",
      "0.931719750288769\n",
      "/home/kubus/Downloads/tmp_seq/MOT17/test/1631281579_0000012_0000037/flight_data/56d85c8e-fb6a-45d7-b615-a600ee295a72.json\n",
      "HHHHH\n",
      "1894.3048254591376\n",
      "1894.3048254591376\n",
      "1996.2240328863902\n",
      "1996.2240328863902\n",
      "0.9489440034043248\n",
      "0.9489440034043248\n",
      "/home/kubus/Downloads/tmp_seq/MOT17/test/1631281579065_0026309_0026347/flight_data/791ea5ad-78d3-46fe-9a5a-7e3f24eff636.json\n",
      "HHHHH\n",
      "0.12750001483236795\n",
      "0.12750001483236795\n",
      "0.12750001483236795\n",
      "0.12750001483236795\n",
      "1.0\n",
      "1.0\n",
      "/home/kubus/Downloads/tmp_seq/MOT17/test/1631281579065_0026309_0026347/flight_data/449d5045-a4c4-4505-baa8-effa63e96eeb.json\n",
      "HHHHH\n",
      "218.69690666529885\n",
      "218.69690666529885\n",
      "218.69690666529885\n",
      "218.69690666529885\n",
      "1.0\n",
      "1.0\n",
      "/home/kubus/Downloads/tmp_seq/MOT17/test/1631281579065_0026309_0026347/flight_data/a5c9f50b-db61-46cd-9538-a08509f18c5d.json\n",
      "HHHHH\n",
      "3635.2575030483736\n",
      "3635.2575030483736\n",
      "3709.2848983140543\n",
      "3709.2848983140543\n",
      "0.9800426774175993\n",
      "0.9800426774175993\n",
      "/home/kubus/Downloads/tmp_seq/MOT17/test/1631281579065_0026309_0026347/flight_data/222c9874-b3d2-4729-826e-c3eaf16f8dc1.json\n",
      "HHHHH\n",
      "12.994609334402556\n",
      "12.994609334402556\n",
      "691.8900039607798\n",
      "691.8900039607798\n",
      "0.01878132255129265\n",
      "0.01878132255129265\n",
      "/home/kubus/Downloads/tmp_seq/MOT17/test/1631281579065_0026309_0026347/flight_data/670f5ea0-f746-4270-a709-2d090dc67acb.json\n",
      "HHHHH\n",
      "112.63311651733122\n",
      "112.63311651733122\n",
      "112.63311651733122\n",
      "112.63311651733122\n",
      "1.0\n",
      "1.0\n",
      "/home/kubus/Downloads/tmp_seq/MOT17/test/1631281579065_0026309_0026347/flight_data/f672fa48-a9b7-43de-866d-95ebfdb5ce72.json\n",
      "HHHHH\n",
      "72.32326617069012\n",
      "72.32326617069012\n",
      "395.4436684892822\n",
      "395.4436684892822\n",
      "0.1828914506255404\n",
      "0.1828914506255404\n",
      "/home/kubus/Downloads/tmp_seq/MOT17/test/1631281579065_0026309_0026347/flight_data/87510901-85e9-4745-832b-272815f16bed.json\n",
      "HHHHH\n",
      "3.628161074231294\n",
      "3.628161074231294\n",
      "681.484005633082\n",
      "681.484005633082\n",
      "0.005323912291765117\n",
      "0.005323912291765117\n",
      "/home/kubus/Downloads/tmp_seq/MOT17/test/1631281579065_0026309_0026347/flight_data/f977a9bd-4235-4627-a71c-6ddb13a6dede.json\n",
      "HHHHH\n",
      "0.0\n",
      "0.0\n",
      "0\n",
      "0\n",
      "0\n",
      "0\n",
      "/home/kubus/Downloads/tmp_seq/MOT17/test/1631281579065_0026309_0026347/flight_data/8e24d642-eb24-49bf-8357-aa0864b1e27d.json\n",
      "HHHHH\n",
      "12.994609334402556\n",
      "12.994609334402556\n",
      "691.8900039607798\n",
      "691.8900039607798\n",
      "0.01878132255129265\n",
      "0.01878132255129265\n",
      "/home/kubus/Downloads/tmp_seq/MOT17/test/1631281579065_0026309_0026347/flight_data/9efd0d23-5a03-49c3-bcd3-dc9b9d93c3c9.json\n",
      "HHHHH\n",
      "72.32326617069012\n",
      "72.32326617069012\n",
      "395.4436684892822\n",
      "395.4436684892822\n",
      "0.1828914506255404\n",
      "0.1828914506255404\n",
      "/home/kubus/Downloads/tmp_seq/MOT17/test/1631281579065_0026309_0026347/flight_data/5c1fe84f-447f-4d40-b9a7-6451ca0e6f2e.json\n",
      "HHHHH\n",
      "1539.5272251195233\n",
      "1539.5272251195233\n",
      "1874.2548864067617\n",
      "1874.2548864067617\n",
      "0.8214076091171552\n",
      "0.8214076091171552\n",
      "/home/kubus/Downloads/tmp_seq/MOT17/test/1631281579065_0026309_0026347/flight_data/a7f314a9-190c-4009-9b61-7815cdba1b00.json\n",
      "HHHHH\n",
      "3635.2575030483736\n",
      "3635.2575030483736\n",
      "3709.2848983140543\n",
      "3709.2848983140543\n",
      "0.9800426774175993\n",
      "0.9800426774175993\n",
      "/home/kubus/Downloads/tmp_seq/MOT17/test/1631281579065_0026309_0026347/flight_data/9b6647f6-b3ba-475f-95ed-204ddbdb22f1.json\n",
      "HHHHH\n",
      "0.0\n",
      "0.0\n",
      "0\n",
      "0\n",
      "0\n",
      "0\n",
      "/home/kubus/Downloads/tmp_seq/MOT17/test/1631281579065_0026309_0026347/flight_data/9a986661-2433-48fc-8285-5e53cd48c04d.json\n",
      "HHHHH\n",
      "112.63311651733122\n",
      "112.63311651733122\n",
      "112.63311651733122\n",
      "112.63311651733122\n",
      "1.0\n",
      "1.0\n",
      "/home/kubus/Downloads/tmp_seq/MOT17/test/1631281579065_0026309_0026347/flight_data/3a5eaa13-9371-4cf9-b64c-a426178593f5.json\n",
      "HHHHH\n",
      "0.12750001483236795\n",
      "0.12750001483236795\n",
      "0.12750001483236795\n",
      "0.12750001483236795\n",
      "1.0\n",
      "1.0\n",
      "/home/kubus/Downloads/tmp_seq/MOT17/test/1631281579065_0026309_0026347/flight_data/56d85c8e-fb6a-45d7-b615-a600ee295a72.json\n",
      "HHHHH\n",
      "218.69690666529885\n",
      "218.69690666529885\n",
      "218.69690666529885\n",
      "218.69690666529885\n",
      "1.0\n",
      "1.0\n",
      "/home/kubus/Downloads/tmp_seq/MOT17/test/1631281579065_0026309_0026347/flight_data/4c680b1a-ced5-4422-96f3-136d06d255e6.json\n",
      "HHHHH\n",
      "1539.5272251195233\n",
      "1539.5272251195233\n",
      "1874.2548864067617\n",
      "1874.2548864067617\n",
      "0.8214076091171552\n",
      "0.8214076091171552\n",
      "/home/kubus/Downloads/tmp_seq/MOT17/test/1631281579065_0026309_0026347/flight_data/3e549fa2-bd3b-4c2c-b72c-aacb6e258c69.json\n",
      "HHHHH\n",
      "317.5141148849351\n",
      "317.5141148849351\n",
      "318.13401973523645\n",
      "318.13401973523645\n",
      "0.9980514348926994\n",
      "0.9980514348926994\n",
      "/home/kubus/Downloads/tmp_seq/MOT17/test/1631281579065_0026309_0026347/flight_data/ae7d371f-6f21-40a9-88bf-969276baa255.json\n",
      "HHHHH\n",
      "317.5141148849351\n",
      "317.5141148849351\n",
      "318.13401973523645\n",
      "318.13401973523645\n",
      "0.9980514348926994\n",
      "0.9980514348926994\n",
      "/home/kubus/Downloads/tmp_seq/MOT17/test/1631281579065_0026309_0026347/flight_data/522d1eae-440c-4fec-b6ae-f46ddbe867d0.json\n",
      "HHHHH\n",
      "3.628161074231294\n",
      "3.628161074231294\n",
      "681.484005633082\n",
      "681.484005633082\n",
      "0.005323912291765117\n",
      "0.005323912291765117\n",
      "/home/kubus/Downloads/tmp_seq/MOT17/test/1631281579072_0006767_0006808/flight_data/cb4126b7-e1fe-4646-a856-a8c35b07bb5e.json\n",
      "HHHHH\n",
      "2063.525569447317\n",
      "2063.525569447317\n",
      "2076.7493190969253\n",
      "2076.7493190969253\n",
      "0.9936324767134829\n",
      "0.9936324767134829\n",
      "/home/kubus/Downloads/tmp_seq/MOT17/test/1631281579072_0006767_0006808/flight_data/fd2dc8aa-959d-4873-9881-221e8d3c455b.json\n",
      "HHHHH\n",
      "2063.525569447317\n",
      "2063.525569447317\n",
      "2076.7493190969253\n",
      "2076.7493190969253\n",
      "0.9936324767134829\n",
      "0.9936324767134829\n",
      "/home/kubus/Downloads/tmp_seq/MOT17/test/1631281579072_0006767_0006808/flight_data/a5c9f50b-db61-46cd-9538-a08509f18c5d.json\n",
      "HHHHH\n",
      "0.0\n",
      "0.0\n",
      "0.0\n",
      "0.0\n",
      "0\n",
      "0\n",
      "/home/kubus/Downloads/tmp_seq/MOT17/test/1631281579072_0006767_0006808/flight_data/222c9874-b3d2-4729-826e-c3eaf16f8dc1.json\n",
      "HHHHH\n",
      "18.210220962800225\n",
      "18.210220962800225\n",
      "18.21022096280022\n",
      "18.21022096280022\n",
      "1.0000000000000002\n",
      "1.0000000000000002\n",
      "/home/kubus/Downloads/tmp_seq/MOT17/test/1631281579072_0006767_0006808/flight_data/43024573-3f11-4c87-961d-d3bebedbb8d7.json\n",
      "HHHHH\n",
      "3.879234252162242\n",
      "3.879234252162242\n",
      "4.962839073924052\n",
      "4.962839073924052\n",
      "0.781656264565311\n",
      "0.781656264565311\n",
      "/home/kubus/Downloads/tmp_seq/MOT17/test/1631281579072_0006767_0006808/flight_data/f672fa48-a9b7-43de-866d-95ebfdb5ce72.json\n",
      "HHHHH\n",
      "13.47634028766937\n",
      "13.47634028766937\n",
      "13.476340287669368\n",
      "13.476340287669368\n",
      "1.0000000000000002\n",
      "1.0000000000000002\n",
      "/home/kubus/Downloads/tmp_seq/MOT17/test/1631281579072_0006767_0006808/flight_data/87510901-85e9-4745-832b-272815f16bed.json\n",
      "HHHHH\n",
      "7.002725823865837\n",
      "7.002725823865837\n",
      "7.002725823865838\n",
      "7.002725823865838\n",
      "0.9999999999999999\n",
      "0.9999999999999999\n",
      "/home/kubus/Downloads/tmp_seq/MOT17/test/1631281579072_0006767_0006808/flight_data/b715ccf3-f910-4e4c-8a6c-1656179c7f12.json\n",
      "HHHHH\n",
      "1.3613243767847591\n",
      "1.3613243767847591\n",
      "1.3613243767847591\n",
      "1.3613243767847591\n",
      "1.0\n",
      "1.0\n",
      "/home/kubus/Downloads/tmp_seq/MOT17/test/1631281579072_0006767_0006808/flight_data/8e24d642-eb24-49bf-8357-aa0864b1e27d.json\n",
      "HHHHH\n",
      "18.210220962800225\n",
      "18.210220962800225\n",
      "18.21022096280022\n",
      "18.21022096280022\n",
      "1.0000000000000002\n",
      "1.0000000000000002\n",
      "/home/kubus/Downloads/tmp_seq/MOT17/test/1631281579072_0006767_0006808/flight_data/9efd0d23-5a03-49c3-bcd3-dc9b9d93c3c9.json\n",
      "HHHHH\n",
      "13.47634028766937\n",
      "13.47634028766937\n",
      "13.476340287669368\n",
      "13.476340287669368\n",
      "1.0000000000000002\n",
      "1.0000000000000002\n",
      "/home/kubus/Downloads/tmp_seq/MOT17/test/1631281579072_0006767_0006808/flight_data/641f522c-45bd-41f4-9d10-fb1554e20ce9.json\n",
      "HHHHH\n",
      "0.3448265925959722\n",
      "0.3448265925959722\n",
      "0.3448265925959722\n",
      "0.3448265925959722\n",
      "1.0\n",
      "1.0\n",
      "/home/kubus/Downloads/tmp_seq/MOT17/test/1631281579072_0006767_0006808/flight_data/387bb50c-6dba-467f-ab84-40e1b091b450.json\n",
      "HHHHH\n",
      "2.2057694072122507\n",
      "2.2057694072122507\n",
      "8.599573800650901\n",
      "8.599573800650901\n",
      "0.25649752631290823\n",
      "0.25649752631290823\n",
      "/home/kubus/Downloads/tmp_seq/MOT17/test/1631281579072_0006767_0006808/flight_data/1c2ab4c8-7868-436e-bd3e-c72c192ae159.json\n",
      "HHHHH\n",
      "2.2057694072122507\n",
      "2.2057694072122507\n",
      "8.599573800650901\n",
      "8.599573800650901\n",
      "0.25649752631290823\n",
      "0.25649752631290823\n",
      "/home/kubus/Downloads/tmp_seq/MOT17/test/1631281579072_0006767_0006808/flight_data/a7f314a9-190c-4009-9b61-7815cdba1b00.json\n",
      "HHHHH\n",
      "0.0\n",
      "0.0\n",
      "0.0\n",
      "0.0\n",
      "0\n",
      "0\n",
      "/home/kubus/Downloads/tmp_seq/MOT17/test/1631281579072_0006767_0006808/flight_data/3d73b14a-deea-4bc3-9ee8-14b6f4461cdd.json\n",
      "HHHHH\n",
      "0.3448265925959722\n",
      "0.3448265925959722\n",
      "0.3448265925959722\n",
      "0.3448265925959722\n",
      "1.0\n",
      "1.0\n",
      "/home/kubus/Downloads/tmp_seq/MOT17/test/1631281579072_0006767_0006808/flight_data/0a89f552-2094-45a9-bcd5-bae771e66111.json\n",
      "HHHHH\n",
      "3.879234252162242\n",
      "3.879234252162242\n",
      "4.962839073924052\n",
      "4.962839073924052\n",
      "0.781656264565311\n",
      "0.781656264565311\n",
      "/home/kubus/Downloads/tmp_seq/MOT17/test/1631281579072_0006767_0006808/flight_data/3e549fa2-bd3b-4c2c-b72c-aacb6e258c69.json\n",
      "HHHHH\n",
      "44.9174161788864\n",
      "44.9174161788864\n",
      "44.9174161788864\n",
      "44.9174161788864\n",
      "1.0\n",
      "1.0\n",
      "/home/kubus/Downloads/tmp_seq/MOT17/test/1631281579072_0006767_0006808/flight_data/ae7d371f-6f21-40a9-88bf-969276baa255.json\n",
      "HHHHH\n",
      "44.9174161788864\n",
      "44.9174161788864\n",
      "44.9174161788864\n",
      "44.9174161788864\n",
      "1.0\n",
      "1.0\n",
      "/home/kubus/Downloads/tmp_seq/MOT17/test/1631281579072_0006767_0006808/flight_data/522d1eae-440c-4fec-b6ae-f46ddbe867d0.json\n",
      "HHHHH\n",
      "7.002725823865837\n",
      "7.002725823865837\n",
      "7.002725823865838\n",
      "7.002725823865838\n",
      "0.9999999999999999\n",
      "0.9999999999999999\n",
      "/home/kubus/Downloads/tmp_seq/MOT17/test/1631281579072_0006767_0006808/flight_data/b9a2ebff-cf1d-4367-af91-1dad2c2a7c95.json\n",
      "HHHHH\n",
      "1.3613243767847591\n",
      "1.3613243767847591\n",
      "1.3613243767847591\n",
      "1.3613243767847591\n",
      "1.0\n",
      "1.0\n",
      "/home/kubus/Downloads/tmp_seq/MOT17/test/1631281579043_0010510_0010548/flight_data/cb4126b7-e1fe-4646-a856-a8c35b07bb5e.json\n",
      "HHHHH\n",
      "122.66445977953418\n",
      "122.66445977953418\n",
      "122.66445977953418\n",
      "122.66445977953418\n",
      "1.0\n",
      "1.0\n",
      "/home/kubus/Downloads/tmp_seq/MOT17/test/1631281579043_0010510_0010548/flight_data/fd2dc8aa-959d-4873-9881-221e8d3c455b.json\n",
      "HHHHH\n",
      "122.66445977953418\n",
      "122.66445977953418\n",
      "122.66445977953418\n",
      "122.66445977953418\n",
      "1.0\n",
      "1.0\n",
      "/home/kubus/Downloads/tmp_seq/MOT17/test/1631281579043_0010510_0010548/flight_data/43024573-3f11-4c87-961d-d3bebedbb8d7.json\n",
      "HHHHH\n",
      "0.48895381426083134\n",
      "0.48895381426083134\n",
      "0.4889538142608314\n",
      "0.4889538142608314\n",
      "0.9999999999999999\n",
      "0.9999999999999999\n",
      "/home/kubus/Downloads/tmp_seq/MOT17/test/1631281579043_0010510_0010548/flight_data/db62efea-b427-4b3a-abfe-08deb5c6a8d5.json\n",
      "HHHHH\n",
      "2037.9206706670932\n",
      "2037.9206706670932\n",
      "2091.576461418129\n",
      "2091.576461418129\n",
      "0.9743467227993874\n",
      "0.9743467227993874\n",
      "/home/kubus/Downloads/tmp_seq/MOT17/test/1631281579043_0010510_0010548/flight_data/387bb50c-6dba-467f-ab84-40e1b091b450.json\n",
      "HHHHH\n",
      "0.09466881997181067\n",
      "0.09466881997181067\n",
      "0.09466881997181067\n",
      "0.09466881997181067\n",
      "1.0\n",
      "1.0\n",
      "/home/kubus/Downloads/tmp_seq/MOT17/test/1631281579043_0010510_0010548/flight_data/1c2ab4c8-7868-436e-bd3e-c72c192ae159.json\n",
      "HHHHH\n",
      "0.09466881997181067\n",
      "0.09466881997181067\n",
      "0.09466881997181067\n",
      "0.09466881997181067\n",
      "1.0\n",
      "1.0\n",
      "/home/kubus/Downloads/tmp_seq/MOT17/test/1631281579043_0010510_0010548/flight_data/0a89f552-2094-45a9-bcd5-bae771e66111.json\n",
      "HHHHH\n",
      "0.48895381426083134\n",
      "0.48895381426083134\n",
      "0.4889538142608314\n",
      "0.4889538142608314\n",
      "0.9999999999999999\n",
      "0.9999999999999999\n",
      "/home/kubus/Downloads/tmp_seq/MOT17/test/1631281579043_0010510_0010548/flight_data/52c8bde9-4020-451e-a656-7b9f3ea936a9.json\n",
      "HHHHH\n",
      "2037.9206706670932\n",
      "2037.9206706670932\n",
      "2091.576461418129\n",
      "2091.576461418129\n",
      "0.9743467227993874\n",
      "0.9743467227993874\n",
      "/home/kubus/Downloads/tmp_seq/MOT17/test/1631281579070_0030933_0031008/flight_data/7ea30b52-4fc0-4f8d-8c73-a755d51d409c.json\n",
      "HHHHH\n",
      "0.5675005786823948\n",
      "0.5675005786823948\n",
      "0.5675005786823948\n",
      "0.5675005786823948\n",
      "1.0\n",
      "1.0\n",
      "/home/kubus/Downloads/tmp_seq/MOT17/test/1631281579070_0030933_0031008/flight_data/ce940c2e-4791-4ba1-b255-94f740691f8a.json\n",
      "HHHHH\n",
      "2415.3006262982954\n",
      "2415.3006262982954\n",
      "2504.2773700853386\n",
      "2504.2773700853386\n",
      "0.9644700923108964\n",
      "0.9644700923108964\n",
      "/home/kubus/Downloads/tmp_seq/MOT17/test/1631281579070_0030933_0031008/flight_data/db62efea-b427-4b3a-abfe-08deb5c6a8d5.json\n",
      "HHHHH\n",
      "153.70253798087924\n",
      "153.70253798087924\n",
      "153.70253798087924\n",
      "153.70253798087924\n",
      "1.0\n",
      "1.0\n",
      "/home/kubus/Downloads/tmp_seq/MOT17/test/1631281579070_0030933_0031008/flight_data/42382b34-4094-41de-a8bd-9e2b1a10108a.json\n",
      "HHHHH\n",
      "0.5675005786823948\n",
      "0.5675005786823948\n",
      "0.5675005786823948\n",
      "0.5675005786823948\n",
      "1.0\n",
      "1.0\n",
      "/home/kubus/Downloads/tmp_seq/MOT17/test/1631281579070_0030933_0031008/flight_data/52c8bde9-4020-451e-a656-7b9f3ea936a9.json\n",
      "HHHHH\n",
      "153.70253798087924\n",
      "153.70253798087924\n",
      "153.70253798087924\n",
      "153.70253798087924\n",
      "1.0\n",
      "1.0\n",
      "/home/kubus/Downloads/tmp_seq/MOT17/test/1631281579070_0030933_0031008/flight_data/930c68c1-5339-40ec-833f-0af2bdea4286.json\n",
      "HHHHH\n",
      "2365.4843053596724\n",
      "2365.4843053596724\n",
      "2505.5430804586604\n",
      "2505.5430804586604\n",
      "0.9441004322809932\n",
      "0.9441004322809932\n",
      "/home/kubus/Downloads/tmp_seq/MOT17/test/1631281579070_0030933_0031008/flight_data/ba0f66ac-c620-4591-84df-5fe51bc2f652.json\n",
      "HHHHH\n",
      "2415.3006262982954\n",
      "2415.3006262982954\n",
      "2504.2773700853386\n",
      "2504.2773700853386\n",
      "0.9644700923108964\n",
      "0.9644700923108964\n",
      "/home/kubus/Downloads/tmp_seq/MOT17/test/1631281579070_0030933_0031008/flight_data/1f47373e-f169-45ea-9697-72ead21e6a35.json\n",
      "HHHHH\n",
      "2365.4843053596724\n",
      "2365.4843053596724\n",
      "2505.5430804586604\n",
      "2505.5430804586604\n",
      "0.9441004322809932\n",
      "0.9441004322809932\n",
      "/home/kubus/Downloads/tmp_seq/MOT17/test/1631281579072_0009321_0009403/flight_data/d5eae61a-19d4-4e69-b665-24d06fb989dd.json\n",
      "HHHHH\n",
      "3.310265358727648\n",
      "3.310265358727648\n",
      "5.117328570111734\n",
      "5.117328570111734\n",
      "0.6468737180687559\n",
      "0.6468737180687559\n",
      "/home/kubus/Downloads/tmp_seq/MOT17/test/1631281579072_0009321_0009403/flight_data/4832cfd6-e571-4d8d-9de9-2c39da694dfb.json\n",
      "HHHHH\n",
      "390.4549813187206\n",
      "390.4549813187206\n",
      "424.1802884098991\n",
      "424.1802884098991\n",
      "0.9204929884469581\n",
      "0.9204929884469581\n",
      "/home/kubus/Downloads/tmp_seq/MOT17/test/1631281579072_0009321_0009403/flight_data/ce940c2e-4791-4ba1-b255-94f740691f8a.json\n",
      "HHHHH\n",
      "45.47913055140634\n",
      "45.47913055140634\n",
      "45.47913055140634\n",
      "45.47913055140634\n",
      "1.0\n",
      "1.0\n",
      "/home/kubus/Downloads/tmp_seq/MOT17/test/1631281579072_0009321_0009403/flight_data/fa666596-9b15-4d11-846d-9c20118b332b.json\n",
      "HHHHH\n",
      "3757.3662183373035\n",
      "3757.3662183373035\n",
      "3760.8090770346003\n",
      "3760.8090770346003\n",
      "0.9990845430792218\n",
      "0.9990845430792218\n",
      "/home/kubus/Downloads/tmp_seq/MOT17/test/1631281579072_0009321_0009403/flight_data/d0109090-57fe-466a-90ae-9ce393cec1f7.json\n",
      "HHHHH\n",
      "390.4549813187206\n",
      "390.4549813187206\n",
      "424.1802884098991\n",
      "424.1802884098991\n",
      "0.9204929884469581\n",
      "0.9204929884469581\n",
      "/home/kubus/Downloads/tmp_seq/MOT17/test/1631281579072_0009321_0009403/flight_data/39a19785-8d1e-4a96-aeb0-8c3cd5b0af79.json\n",
      "HHHHH\n",
      "3757.3662183373035\n",
      "3757.3662183373035\n",
      "3760.8090770346003\n",
      "3760.8090770346003\n",
      "0.9990845430792218\n",
      "0.9990845430792218\n",
      "/home/kubus/Downloads/tmp_seq/MOT17/test/1631281579072_0009321_0009403/flight_data/a384a450-e2bd-444d-9e9c-e008413d2f98.json\n",
      "HHHHH\n",
      "3.310265358727648\n",
      "3.310265358727648\n",
      "5.117328570111734\n",
      "5.117328570111734\n",
      "0.6468737180687559\n",
      "0.6468737180687559\n",
      "/home/kubus/Downloads/tmp_seq/MOT17/test/1631281579072_0009321_0009403/flight_data/930c68c1-5339-40ec-833f-0af2bdea4286.json\n",
      "HHHHH\n",
      "22.843992772386173\n",
      "22.843992772386173\n",
      "22.843992772386173\n",
      "22.843992772386173\n",
      "1.0\n",
      "1.0\n",
      "/home/kubus/Downloads/tmp_seq/MOT17/test/1631281579072_0009321_0009403/flight_data/5ed6394e-c533-4bab-a79c-a8e07cbf82b2.json\n",
      "HHHHH\n",
      "0.9124031046872482\n",
      "0.9124031046872482\n",
      "32.749682864946344\n",
      "32.749682864946344\n",
      "0.02785990656611334\n",
      "0.02785990656611334\n",
      "/home/kubus/Downloads/tmp_seq/MOT17/test/1631281579072_0009321_0009403/flight_data/ba0f66ac-c620-4591-84df-5fe51bc2f652.json\n",
      "HHHHH\n",
      "45.47913055140634\n",
      "45.47913055140634\n",
      "45.47913055140634\n",
      "45.47913055140634\n",
      "1.0\n",
      "1.0\n",
      "/home/kubus/Downloads/tmp_seq/MOT17/test/1631281579072_0009321_0009403/flight_data/8602f185-c54f-4207-8286-dcc9a7008af1.json\n",
      "HHHHH\n",
      "0.9124031046872482\n",
      "0.9124031046872482\n",
      "32.749682864946344\n",
      "32.749682864946344\n",
      "0.02785990656611334\n",
      "0.02785990656611334\n",
      "/home/kubus/Downloads/tmp_seq/MOT17/test/1631281579072_0009321_0009403/flight_data/1f47373e-f169-45ea-9697-72ead21e6a35.json\n",
      "HHHHH\n",
      "22.843992772386173\n",
      "22.843992772386173\n",
      "22.843992772386173\n",
      "22.843992772386173\n",
      "1.0\n",
      "1.0\n",
      "/home/kubus/Downloads/tmp_seq/MOT17/test/1631281579047_0001035_0001094/flight_data/7a60f608-c1af-45dd-acbb-9a15afbda56c.json\n",
      "HHHHH\n",
      "1884.36366000756\n",
      "1884.36366000756\n",
      "1902.9640649943005\n",
      "1902.9640649943005\n",
      "0.9902255616231007\n",
      "0.9902255616231007\n",
      "/home/kubus/Downloads/tmp_seq/MOT17/test/1631281579047_0001035_0001094/flight_data/c3fd9db7-cb9f-46fc-8c35-25f8abbd9067.json\n",
      "HHHHH\n",
      "1873.6840313924502\n",
      "1873.6840313924502\n",
      "1912.572979860839\n",
      "1912.572979860839\n",
      "0.9796666852047556\n",
      "0.9796666852047556\n",
      "/home/kubus/Downloads/tmp_seq/MOT17/test/1631281579047_0001035_0001094/flight_data/4832cfd6-e571-4d8d-9de9-2c39da694dfb.json\n",
      "HHHHH\n",
      "25.66297743743428\n",
      "25.66297743743428\n",
      "25.66297743743428\n",
      "25.66297743743428\n",
      "1.0\n",
      "1.0\n",
      "/home/kubus/Downloads/tmp_seq/MOT17/test/1631281579047_0001035_0001094/flight_data/70767a84-b3f4-4a8a-9adf-e590a8f803f6.json\n",
      "HHHHH\n",
      "1954.913013615274\n",
      "1954.913013615274\n",
      "1994.4017211891407\n",
      "1994.4017211891407\n",
      "0.980200223879509\n",
      "0.980200223879509\n",
      "/home/kubus/Downloads/tmp_seq/MOT17/test/1631281579047_0001035_0001094/flight_data/ac79b3ac-ef6b-4439-91df-e8744562409a.json\n",
      "HHHHH\n",
      "1873.6840313924502\n",
      "1873.6840313924502\n",
      "1912.572979860839\n",
      "1912.572979860839\n",
      "0.9796666852047556\n",
      "0.9796666852047556\n",
      "/home/kubus/Downloads/tmp_seq/MOT17/test/1631281579047_0001035_0001094/flight_data/b04d6f4a-f1dc-4759-941e-0081b4608dc5.json\n",
      "HHHHH\n",
      "1884.36366000756\n",
      "1884.36366000756\n",
      "1902.9640649943005\n",
      "1902.9640649943005\n",
      "0.9902255616231007\n",
      "0.9902255616231007\n",
      "/home/kubus/Downloads/tmp_seq/MOT17/test/1631281579047_0001035_0001094/flight_data/d0109090-57fe-466a-90ae-9ce393cec1f7.json\n",
      "HHHHH\n",
      "25.66297743743428\n",
      "25.66297743743428\n",
      "25.66297743743428\n",
      "25.66297743743428\n",
      "1.0\n",
      "1.0\n",
      "/home/kubus/Downloads/tmp_seq/MOT17/test/1631281579047_0001035_0001094/flight_data/5ed6394e-c533-4bab-a79c-a8e07cbf82b2.json\n",
      "HHHHH\n",
      "0.018578120967251373\n",
      "0.018578120967251373\n",
      "0.018578120967251373\n",
      "0.018578120967251373\n",
      "1.0\n",
      "1.0\n",
      "/home/kubus/Downloads/tmp_seq/MOT17/test/1631281579047_0001035_0001094/flight_data/6ed38bba-9e6f-41cd-a3ae-70b258eae0a2.json\n",
      "HHHHH\n",
      "1954.913013615274\n",
      "1954.913013615274\n",
      "1994.4017211891407\n",
      "1994.4017211891407\n",
      "0.980200223879509\n",
      "0.980200223879509\n",
      "/home/kubus/Downloads/tmp_seq/MOT17/test/1631281579047_0001035_0001094/flight_data/8602f185-c54f-4207-8286-dcc9a7008af1.json\n",
      "HHHHH\n",
      "0.018578120967251373\n",
      "0.018578120967251373\n",
      "0.018578120967251373\n",
      "0.018578120967251373\n",
      "1.0\n",
      "1.0\n"
     ]
    }
   ],
   "source": [
    "flights: List[BirdFlightData] = []\n",
    "for sequence in sequences:\n",
    "    flights.extend(sequence.birds)"
   ]
  },
  {
   "cell_type": "markdown",
   "metadata": {
    "id": "S8-I7aFvkgzC",
    "pycharm": {
     "name": "#%% md\n"
    }
   },
   "source": [
    "## Filter Trajectories\n",
    "### Filter by length"
   ]
  },
  {
   "cell_type": "code",
   "execution_count": 15,
   "metadata": {
    "colab": {
     "base_uri": "https://localhost:8080/",
     "height": 312
    },
    "id": "lvRMYStCkgzD",
    "outputId": "5636aa84-0a26-4820-9a05-c58b35c1125e",
    "pycharm": {
     "name": "#%%\n"
    }
   },
   "outputs": [
    {
     "name": "stdout",
     "output_type": "stream",
     "text": [
      "94\n",
      "26\n"
     ]
    },
    {
     "data": {
      "image/png": "[encoded data removed]",
      "text/plain": [
       "<Figure size 432x288 with 1 Axes>"
      ]
     },
     "metadata": {
      "needs_background": "light"
     },
     "output_type": "display_data"
    }
   ],
   "source": [
    "from ipywidgets import Layout, interact, IntSlider\n",
    "\n",
    "\n",
    "def nb_filter_by_length(x):\n",
    "    global flights_filtered_by_length\n",
    "    flights_filtered_by_length = list(filter(lambda flight: flight.length > 400, flights))\n",
    "\n",
    "    x = PrettyTable()\n",
    "    x.align = \"r\"\n",
    "    x.header = False\n",
    "    x.add_row([\"Flight Count Before\", len(flights)])\n",
    "    x.add_row([\"Flight Count After\", len(flights_filtered_by_length)])\n",
    "    print(x)\n",
    "\n",
    "    plot_2D(list(map(lambda flight: flight.y_traj, flights_filtered_by_length)), legend=False)\n",
    "\n",
    "\n",
    "#interact(nb_filter_by_length, x=IntSlider(0, 0, 10, 1, layout=Layout(width='500px')));\n",
    "nb_filter_by_length(1)"
   ]
  },
  {
   "cell_type": "markdown",
   "metadata": {
    "id": "-hU4nU6TkgzE",
    "pycharm": {
     "name": "#%% md\n"
    }
   },
   "source": [
    "### Filter by mean velocity"
   ]
  },
  {
   "cell_type": "code",
   "execution_count": 8,
   "metadata": {
    "colab": {
     "base_uri": "https://localhost:8080/",
     "height": 294
    },
    "id": "UqQ1JlXckgzF",
    "outputId": "d3971cb2-aa51-400e-e536-3b0c5c5a7be6",
    "pycharm": {
     "name": "#%%\n"
    }
   },
   "outputs": [
    {
     "name": "stdout",
     "output_type": "stream",
     "text": [
      "0\n"
     ]
    }
   ],
   "source": [
    "flights_filtered_by_velocity = list(filter(lambda flight: flight.mean_vel < 1500, flights))\n",
    "\n",
    "x = PrettyTable()\n",
    "x.align = \"r\"\n",
    "x.header = False\n",
    "x.add_row([\"Flight Count Before\", len(flights)])\n",
    "x.add_row([\"Flight Count After\", len(flights_filtered_by_velocity)])\n",
    "print(x)\n",
    "\n",
    "plot_2D(list(map(lambda flight: flight.y_traj, flights_filtered_by_velocity)), legend=False)"
   ]
  },
  {
   "cell_type": "markdown",
   "metadata": {
    "id": "abpSV2RQkgzF",
    "pycharm": {
     "name": "#%% md\n"
    }
   },
   "source": [
    "## Filter by straightness"
   ]
  },
  {
   "cell_type": "code",
   "execution_count": 9,
   "metadata": {
    "colab": {
     "base_uri": "https://localhost:8080/",
     "height": 535
    },
    "id": "cLzpEX8pkgzH",
    "outputId": "2b1a7c3e-24e8-48cf-b940-32370c9b5dc1",
    "pycharm": {
     "name": "#%%\n"
    }
   },
   "outputs": [],
   "source": [
    "print(\"Straight:\")\n",
    "#straight_flights = list(filter(lambda flight: flight.straightness >= 0.99, flights_filtered_by_length))\n",
    "#plot_2D(list(map(lambda flight: flight.y_traj, straight_flights)), legend=False)\n",
    "\n",
    "print(\"Less Straight:\")\n",
    "#qeer_flights = list(filter(lambda flight: flight.straightness < 0.98, flights_filtered_by_length))\n",
    "#plot_2D(list(map(lambda flight: flight.y_traj, qeer_flights)), legend=False)"
   ]
  },
  {
   "cell_type": "markdown",
   "metadata": {
    "id": "rNDiXOb2kgzI",
    "pycharm": {
     "name": "#%% md\n"
    }
   },
   "source": [
    "# Bird trajectory analysis"
   ]
  },
  {
   "cell_type": "markdown",
   "metadata": {
    "id": "nr9eurJskgzI",
    "pycharm": {
     "name": "#%% md\n"
    }
   },
   "source": [
    "## Multiple Flight analysis"
   ]
  },
  {
   "cell_type": "code",
   "execution_count": 10,
   "metadata": {
    "colab": {
     "base_uri": "https://localhost:8080/",
     "height": 279
    },
    "id": "DMzzxy0XkgzJ",
    "outputId": "db2f0815-6df2-46d2-a5bc-c3607f90bac1",
    "pycharm": {
     "name": "#%%\n"
    }
   },
   "outputs": [
    {
     "ename": "ValueError",
     "evalue": "need at least one array to concatenate",
     "output_type": "error",
     "traceback": [
      "\u001B[0;31m---------------------------------------------------------------------------\u001B[0m",
      "\u001B[0;31mValueError\u001B[0m                                Traceback (most recent call last)",
      "\u001B[0;32m/tmp/ipykernel_141830/3594832495.py\u001B[0m in \u001B[0;36m<module>\u001B[0;34m\u001B[0m\n\u001B[1;32m      2\u001B[0m \u001B[0;32mfrom\u001B[0m \u001B[0myupi\u001B[0m\u001B[0;34m.\u001B[0m\u001B[0mgraphics\u001B[0m \u001B[0;32mimport\u001B[0m \u001B[0mplot_velocity_hist\u001B[0m\u001B[0;34m\u001B[0m\u001B[0;34m\u001B[0m\u001B[0m\n\u001B[1;32m      3\u001B[0m \u001B[0;34m\u001B[0m\u001B[0m\n\u001B[0;32m----> 4\u001B[0;31m \u001B[0mv\u001B[0m \u001B[0;34m=\u001B[0m \u001B[0mspeed_ensemble\u001B[0m\u001B[0;34m(\u001B[0m\u001B[0mlist\u001B[0m\u001B[0;34m(\u001B[0m\u001B[0mmap\u001B[0m\u001B[0;34m(\u001B[0m\u001B[0;32mlambda\u001B[0m \u001B[0mflight\u001B[0m\u001B[0;34m:\u001B[0m \u001B[0mflight\u001B[0m\u001B[0;34m.\u001B[0m\u001B[0my_traj\u001B[0m\u001B[0;34m,\u001B[0m \u001B[0mflights_filtered_by_length\u001B[0m\u001B[0;34m)\u001B[0m\u001B[0;34m)\u001B[0m\u001B[0;34m,\u001B[0m \u001B[0mstep\u001B[0m\u001B[0;34m=\u001B[0m\u001B[0;36m1\u001B[0m\u001B[0;34m)\u001B[0m\u001B[0;34m\u001B[0m\u001B[0;34m\u001B[0m\u001B[0m\n\u001B[0m\u001B[1;32m      5\u001B[0m \u001B[0mplot_velocity_hist\u001B[0m\u001B[0;34m(\u001B[0m\u001B[0mv\u001B[0m\u001B[0;34m,\u001B[0m \u001B[0mbins\u001B[0m\u001B[0;34m=\u001B[0m\u001B[0;36m50\u001B[0m\u001B[0;34m)\u001B[0m\u001B[0;34m\u001B[0m\u001B[0;34m\u001B[0m\u001B[0m\n",
      "\u001B[0;32m~/.local/share/virtualenvs/fids_migratory_birds_detection-qEj-P10n/lib/python3.8/site-packages/yupi/_checkers.py\u001B[0m in \u001B[0;36mwrapper\u001B[0;34m(trajs, *args, **kwargs)\u001B[0m\n\u001B[1;32m     27\u001B[0m             \u001B[0;32mif\u001B[0m \u001B[0many\u001B[0m\u001B[0;34m(\u001B[0m\u001B[0;34m(\u001B[0m\u001B[0mt\u001B[0m\u001B[0;34m.\u001B[0m\u001B[0mdim\u001B[0m \u001B[0;34m!=\u001B[0m \u001B[0mdim\u001B[0m \u001B[0;32mfor\u001B[0m \u001B[0mt\u001B[0m \u001B[0;32min\u001B[0m \u001B[0mtrajs\u001B[0m\u001B[0;34m)\u001B[0m\u001B[0;34m)\u001B[0m\u001B[0;34m:\u001B[0m\u001B[0;34m\u001B[0m\u001B[0;34m\u001B[0m\u001B[0m\n\u001B[1;32m     28\u001B[0m                 \u001B[0;32mraise\u001B[0m \u001B[0mValueError\u001B[0m\u001B[0;34m(\u001B[0m\u001B[0;34m\"All trajectories must have the same dimensions\"\u001B[0m\u001B[0;34m)\u001B[0m\u001B[0;34m\u001B[0m\u001B[0;34m\u001B[0m\u001B[0m\n\u001B[0;32m---> 29\u001B[0;31m         \u001B[0;32mreturn\u001B[0m \u001B[0mfunc\u001B[0m\u001B[0;34m(\u001B[0m\u001B[0mtrajs\u001B[0m\u001B[0;34m,\u001B[0m \u001B[0;34m*\u001B[0m\u001B[0margs\u001B[0m\u001B[0;34m,\u001B[0m \u001B[0;34m**\u001B[0m\u001B[0mkwargs\u001B[0m\u001B[0;34m)\u001B[0m\u001B[0;34m\u001B[0m\u001B[0;34m\u001B[0m\u001B[0m\n\u001B[0m\u001B[1;32m     30\u001B[0m     \u001B[0mwrapper\u001B[0m\u001B[0;34m.\u001B[0m\u001B[0m__doc__\u001B[0m \u001B[0;34m=\u001B[0m \u001B[0mfunc\u001B[0m\u001B[0;34m.\u001B[0m\u001B[0m__doc__\u001B[0m\u001B[0;34m\u001B[0m\u001B[0;34m\u001B[0m\u001B[0m\n\u001B[1;32m     31\u001B[0m     \u001B[0;32mreturn\u001B[0m \u001B[0mwrapper\u001B[0m\u001B[0;34m\u001B[0m\u001B[0;34m\u001B[0m\u001B[0m\n",
      "\u001B[0;32m~/.local/share/virtualenvs/fids_migratory_birds_detection-qEj-P10n/lib/python3.8/site-packages/yupi/stats/_stats.py\u001B[0m in \u001B[0;36mspeed_ensemble\u001B[0;34m(trajs, step)\u001B[0m\n\u001B[1;32m    317\u001B[0m \u001B[0;34m\u001B[0m\u001B[0m\n\u001B[1;32m    318\u001B[0m     \u001B[0mtrajs_\u001B[0m \u001B[0;34m=\u001B[0m \u001B[0;34m[\u001B[0m\u001B[0msubsample\u001B[0m\u001B[0;34m(\u001B[0m\u001B[0mtraj\u001B[0m\u001B[0;34m,\u001B[0m \u001B[0mstep\u001B[0m\u001B[0;34m)\u001B[0m \u001B[0;32mfor\u001B[0m \u001B[0mtraj\u001B[0m \u001B[0;32min\u001B[0m \u001B[0mtrajs\u001B[0m\u001B[0;34m]\u001B[0m\u001B[0;34m\u001B[0m\u001B[0;34m\u001B[0m\u001B[0m\n\u001B[0;32m--> 319\u001B[0;31m     \u001B[0;32mreturn\u001B[0m \u001B[0mnp\u001B[0m\u001B[0;34m.\u001B[0m\u001B[0mconcatenate\u001B[0m\u001B[0;34m(\u001B[0m\u001B[0;34m[\u001B[0m\u001B[0mtraj\u001B[0m\u001B[0;34m.\u001B[0m\u001B[0mv\u001B[0m\u001B[0;34m.\u001B[0m\u001B[0mnorm\u001B[0m \u001B[0;32mfor\u001B[0m \u001B[0mtraj\u001B[0m \u001B[0;32min\u001B[0m \u001B[0mtrajs_\u001B[0m\u001B[0;34m]\u001B[0m\u001B[0;34m)\u001B[0m\u001B[0;34m\u001B[0m\u001B[0;34m\u001B[0m\u001B[0m\n\u001B[0m\u001B[1;32m    320\u001B[0m \u001B[0;34m\u001B[0m\u001B[0m\n\u001B[1;32m    321\u001B[0m \u001B[0;34m\u001B[0m\u001B[0m\n",
      "\u001B[0;32m<__array_function__ internals>\u001B[0m in \u001B[0;36mconcatenate\u001B[0;34m(*args, **kwargs)\u001B[0m\n",
      "\u001B[0;31mValueError\u001B[0m: need at least one array to concatenate"
     ]
    }
   ],
   "source": [
    "from yupi.stats import speed_ensemble\n",
    "from yupi.graphics import plot_velocity_hist\n",
    "\n",
    "if len(flights_filtered_by_length) > 0:\n",
    "    print(list(map(lambda flight: flight.y_traj, flights_filtered_by_length)))\n",
    "\n",
    "    v = speed_ensemble(list(map(lambda flight: flight.y_traj, flights_filtered_by_length)), step=1)\n",
    "    plot_velocity_hist(v, bins=50)"
   ]
  },
  {
   "cell_type": "markdown",
   "metadata": {
    "id": "XxRFleUSkgzJ",
    "pycharm": {
     "name": "#%% md\n"
    }
   },
   "source": [
    "### Histogram of Turning Angles"
   ]
  },
  {
   "cell_type": "code",
   "execution_count": null,
   "metadata": {
    "colab": {
     "base_uri": "https://localhost:8080/",
     "height": 300
    },
    "id": "ddb9194dkgzK",
    "outputId": "6d19995e-86f6-47f5-a839-c920d2806617",
    "pycharm": {
     "name": "#%%\n"
    }
   },
   "outputs": [],
   "source": [
    "from yupi.graphics import plot_angles_hist\n",
    "from yupi.stats import turning_angles_ensemble\n",
    "\n",
    "if len(flights_filtered_by_length) > 0:\n",
    "    theta = turning_angles_ensemble(list(map(lambda flight: flight.y_traj, flights_filtered_by_length)))\n",
    "    plot_angles_hist(theta, 10)"
   ]
  },
  {
   "cell_type": "markdown",
   "metadata": {
    "id": "TL3Ou7MWkgzK",
    "pycharm": {
     "name": "#%% md\n"
    }
   },
   "source": [
    "### Straightness"
   ]
  },
  {
   "cell_type": "code",
   "execution_count": null,
   "outputs": [],
   "source": [
    "#if len(flights_filtered_by_length) > 0:\n",
    "#    straighness_data = [flight.straightness for flight in flights_filtered_by_length]\n",
    "#    plt.hist(straighness_data, density=True, bins=300)\n",
    "#    plt.xlabel(f'streightness')\n",
    "#    plt.ylabel('# trajectories')\n",
    "#    plt.grid()\n",
    "#    plt.gca().set_axisbelow(True)\n",
    "\n",
    "#    plt.show()"
   ],
   "metadata": {
    "collapsed": false,
    "pycharm": {
     "name": "#%%\n"
    }
   }
  },
  {
   "cell_type": "markdown",
   "source": [
    "### Wing Flap Frequency / Bird Size"
   ],
   "metadata": {
    "collapsed": false,
    "pycharm": {
     "name": "#%% md\n"
    }
   }
  },
  {
   "cell_type": "code",
   "execution_count": null,
   "outputs": [],
   "source": [
    "from matplotlib.pyplot import figure\n",
    "data = [[flight.wing_flap_frequency, flight.avg_size] for flight in flights_filtered_by_length]\n",
    "\n",
    "x,y = zip(*data)\n",
    "figure(figsize=(10, 10), dpi=100)\n",
    "plt.scatter(x,y, alpha=0.5)\n",
    "plt.xlabel('Wing Flap Frequency')\n",
    "plt.ylabel('Avg Size of Bird')\n",
    "plt.show()"
   ],
   "metadata": {
    "collapsed": false,
    "pycharm": {
     "name": "#%%\n"
    }
   }
  },
  {
   "cell_type": "markdown",
   "source": [
    "# Not implemented"
   ],
   "metadata": {
    "collapsed": false,
    "pycharm": {
     "name": "#%% md\n"
    }
   }
  },
  {
   "cell_type": "markdown",
   "metadata": {
    "id": "Shd6kUqT26q3",
    "pycharm": {
     "name": "#%% md\n"
    }
   },
   "source": [
    "# FIDS text generation"
   ]
  },
  {
   "cell_type": "markdown",
   "metadata": {
    "id": "-8wOMp8kodKR",
    "pycharm": {
     "name": "#%% md\n"
    }
   },
   "source": [
    "## Cluster by Shape"
   ]
  },
  {
   "cell_type": "code",
   "execution_count": null,
   "metadata": {
    "id": "DVZnLpJrkgzS",
    "pycharm": {
     "name": "#%%\n"
    }
   },
   "outputs": [],
   "source": [
    "labels = list(flights_filtered_by_length[0].straightness_dict.keys())\n",
    "data = list(map(lambda flight: list(flight.straightness_dict.values()), flights_filtered_by_length))\n",
    "\n",
    "import pandas as pd\n",
    "import hdbscan\n",
    "clusterer = hdbscan.HDBSCAN()\n",
    "\n",
    "clusterer.fit(data)\n",
    "\n",
    "cluster_names = [\"a\",\"b\",\"c\",\"d\",\"e\",\"f\",\"g\",\"h\",\"i\",\"j\",\"k\",\"l\"]\n",
    "\n",
    "\n",
    "plot_2D(list(map(lambda flight: flight.y_traj, flights_filtered_by_length)),\n",
    "        color=[plt.cm.Pastel1(label) for label in clusterer.labels_],legend=False)\n",
    "\n",
    "\n",
    "\n",
    "for label in range(max(clusterer.labels_)):\n",
    "    print(type(clusterer.labels_))\n",
    "    print(type(np.array(clusterer.labels_)))\n",
    "    filtered_by_cluster = data[np.array(clusterer.labels_) == label]\n",
    "\n",
    "    plot_2D(list(map(lambda flight: flight.y_traj, filtered_by_cluster)),\n",
    "        color=plt.cm.Dark2(label),legend=False)\n"
   ]
  },
  {
   "cell_type": "markdown",
   "metadata": {
    "id": "1dBKcJjTkgzS",
    "pycharm": {
     "name": "#%% md\n"
    }
   },
   "source": [
    "## Detecting Rendezvous with DBSCAN\n",
    "\n",
    "Using Tracktable’s box-DBSCAN capabilities, we can detect trajectories that are traveling together for part or all of their journeys."
   ]
  },
  {
   "cell_type": "code",
   "execution_count": null,
   "metadata": {
    "id": "iInlUirFkgzT",
    "pycharm": {
     "name": "#%%\n"
    }
   },
   "outputs": [],
   "source": [
    "#from tracktable.applications.cluster import cluster_trajectories_rendezvous\n",
    "\n",
    "#clusters = cluster_trajectories_rendezvous(t_trajs)\n",
    "#lonely_birds = clusters[0]\n",
    "#print(f\"# pack of birds: {len(clusters) - 1}\")"
   ]
  },
  {
   "cell_type": "code",
   "execution_count": null,
   "metadata": {
    "id": "lKucjZQ9uBRl",
    "pycharm": {
     "name": "#%%\n"
    }
   },
   "outputs": [],
   "source": []
  }
 ],
 "metadata": {
  "celltoolbar": "Tags",
  "colab": {
   "collapsed_sections": [],
   "name": "bird_flight_analysis.ipynb",
   "provenance": []
  },
  "kernelspec": {
   "display_name": "Python 3 (ipykernel)",
   "language": "python",
   "name": "python3"
  },
  "language_info": {
   "codemirror_mode": {
    "name": "ipython",
    "version": 3
   },
   "file_extension": ".py",
   "mimetype": "text/x-python",
   "name": "python",
   "nbconvert_exporter": "python",
   "pygments_lexer": "ipython3",
   "version": "3.9.9"
  }
 },
 "nbformat": 4,
 "nbformat_minor": 1
}