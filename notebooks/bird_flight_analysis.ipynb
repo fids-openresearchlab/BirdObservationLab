{
 "cells": [
  {
   "cell_type": "markdown",
   "metadata": {
    "pycharm": {
     "name": "#%% md\n"
    }
   },
   "source": [
    "# Single Bird Flight analysis\n"
   ]
  },
  {
   "cell_type": "code",
   "execution_count": 1,
   "metadata": {
    "pycharm": {
     "name": "#%%\n"
    }
   },
   "outputs": [],
   "source": [
    "%matplotlib inline\n",
    "\n",
    "from pathlib import Path\n",
    "\n",
    "#from yupiwrap.tracktable import yupi2tracktable\n",
    "#from tracktable.core.geomath import length\n",
    "import matplotlib.pyplot as plt\n",
    "import numpy as np\n",
    "#from tracktable.core.geomath import length, end_to_end_distance\n",
    "from yupi.graphics import plot_velocity_hist\n",
    "from yupi.stats import speed_ensemble\n",
    "\n",
    "from birdwatchpy.sequences.sequences_helper import load_sequence_from_pickle\n",
    "from birdwatchpy.bird_flight_analysis.trajs_plot import plot_2D\n"
   ]
  },
  {
   "cell_type": "code",
   "execution_count": 2,
   "metadata": {
    "pycharm": {
     "name": "#%%\n"
    },
    "tags": [
     "parameters"
    ]
   },
   "outputs": [],
   "source": [
    "# parameter (this parameter will be injected by papermill)\n",
    "sequence_dir_path = \"\"\n",
    "flight_id = \"\"\n",
    "byte_pickle = b''"
   ]
  },
  {
   "cell_type": "code",
   "execution_count": 3,
   "metadata": {
    "pycharm": {
     "name": "#%%\n"
    }
   },
   "outputs": [
    {
     "ename": "FileNotFoundError",
     "evalue": "[Errno 2] No such file or directory: '/.sequence'",
     "output_type": "error",
     "traceback": [
      "\u001b[0;31m---------------------------------------------------------------------------\u001b[0m",
      "\u001b[0;31mFileNotFoundError\u001b[0m                         Traceback (most recent call last)",
      "Input \u001b[0;32mIn [3]\u001b[0m, in \u001b[0;36m<cell line: 1>\u001b[0;34m()\u001b[0m\n\u001b[0;32m----> 1\u001b[0m sequence \u001b[38;5;241m=\u001b[39m \u001b[43mload_sequence_from_pickle\u001b[49m\u001b[43m(\u001b[49m\u001b[43mPath\u001b[49m\u001b[43m(\u001b[49m\u001b[38;5;124;43mf\u001b[39;49m\u001b[38;5;124;43m\"\u001b[39;49m\u001b[38;5;132;43;01m{\u001b[39;49;00m\u001b[43msequence_dir_path\u001b[49m\u001b[38;5;132;43;01m}\u001b[39;49;00m\u001b[38;5;124;43m/\u001b[39;49m\u001b[38;5;132;43;01m{\u001b[39;49;00m\u001b[43mPath\u001b[49m\u001b[43m(\u001b[49m\u001b[43msequence_dir_path\u001b[49m\u001b[43m)\u001b[49m\u001b[38;5;241;43m.\u001b[39;49m\u001b[43mname\u001b[49m\u001b[38;5;132;43;01m}\u001b[39;49;00m\u001b[38;5;124;43m.sequence\u001b[39;49m\u001b[38;5;124;43m\"\u001b[39;49m\u001b[43m)\u001b[49m\u001b[43m)\u001b[49m\n\u001b[1;32m      2\u001b[0m single_flight \u001b[38;5;241m=\u001b[39m \u001b[38;5;28mlist\u001b[39m(\u001b[38;5;28mfilter\u001b[39m(\u001b[38;5;28;01mlambda\u001b[39;00m flight: flight\u001b[38;5;241m.\u001b[39mflight_id \u001b[38;5;241m==\u001b[39m flight_id, sequence\u001b[38;5;241m.\u001b[39mbirds))\u001b[38;5;241m.\u001b[39mpop()\n",
      "File \u001b[0;32m~/.var/app/com.jetbrains.PyCharm-Professional/data/virtualenvs/fids_bird_detection_and_tracking-jrQ4Gl_l/lib/python3.9/site-packages/birdwatchpy/sequences/sequences_helper.py:27\u001b[0m, in \u001b[0;36mload_sequence_from_pickle\u001b[0;34m(path)\u001b[0m\n\u001b[1;32m     23\u001b[0m \u001b[38;5;28;01mdef\u001b[39;00m \u001b[38;5;21mload_sequence_from_pickle\u001b[39m(path: Path) \u001b[38;5;241m-\u001b[39m\u001b[38;5;241m>\u001b[39m SequenceData:\n\u001b[1;32m     24\u001b[0m     \u001b[38;5;124;03m\"\"\"\u001b[39;00m\n\u001b[1;32m     25\u001b[0m \u001b[38;5;124;03m    Load SequenceData from pickle. Be aware of security risks using pickle!\u001b[39;00m\n\u001b[1;32m     26\u001b[0m \u001b[38;5;124;03m    \"\"\"\u001b[39;00m\n\u001b[0;32m---> 27\u001b[0m     sequence_pickle \u001b[38;5;241m=\u001b[39m \u001b[38;5;28;43mopen\u001b[39;49m\u001b[43m(\u001b[49m\u001b[43mpath\u001b[49m\u001b[38;5;241;43m.\u001b[39;49m\u001b[43mas_posix\u001b[49m\u001b[43m(\u001b[49m\u001b[43m)\u001b[49m\u001b[43m,\u001b[49m\u001b[43m \u001b[49m\u001b[38;5;124;43m\"\u001b[39;49m\u001b[38;5;124;43mrb\u001b[39;49m\u001b[38;5;124;43m\"\u001b[39;49m\u001b[43m)\u001b[49m\n\u001b[1;32m     28\u001b[0m     \u001b[38;5;28;01mreturn\u001b[39;00m pickle\u001b[38;5;241m.\u001b[39mload(sequence_pickle)\n",
      "\u001b[0;31mFileNotFoundError\u001b[0m: [Errno 2] No such file or directory: '/.sequence'"
     ]
    }
   ],
   "source": [
    "sequence = load_sequence_from_pickle(Path(f\"{sequence_dir_path}/{Path(sequence_dir_path).name}.sequence\"))\n",
    "single_flight = list(filter(lambda flight: flight.flight_id == flight_id, sequence.birds)).pop()"
   ]
  },
  {
   "cell_type": "markdown",
   "metadata": {
    "pycharm": {
     "name": "#%% md\n"
    }
   },
   "source": [
    "### Sequence Video"
   ]
  },
  {
   "cell_type": "code",
   "execution_count": null,
   "metadata": {
    "pycharm": {
     "name": "#%%\n"
    }
   },
   "outputs": [],
   "source": [
    "from IPython.display import Video\n",
    "video_path=f\"{sequence_dir_path}/{sequence.sequence_id}.webm\"\n",
    "if Path(video_path).is_file():\n",
    "    Video(video_path)\n",
    "    print(video_path)\n",
    "else:\n",
    "    print(f\"webm video not found: {video_path}\")"
   ]
  },
  {
   "cell_type": "markdown",
   "metadata": {
    "pycharm": {
     "name": "#%% md\n"
    }
   },
   "source": [
    "### Plot Trajectory"
   ]
  },
  {
   "cell_type": "code",
   "execution_count": null,
   "metadata": {
    "pycharm": {
     "name": "#%%\n"
    }
   },
   "outputs": [],
   "source": [
    "\n",
    "plot_2D(single_flight.y_traj, legend=False)"
   ]
  },
  {
   "cell_type": "markdown",
   "metadata": {
    "pycharm": {
     "name": "#%% md\n"
    }
   },
   "source": [
    "### Basic Data"
   ]
  },
  {
   "cell_type": "code",
   "execution_count": null,
   "metadata": {
    "pycharm": {
     "name": "#%%\n"
    }
   },
   "outputs": [],
   "source": [
    "print(single_flight.get_basic_table())"
   ]
  },
  {
   "cell_type": "markdown",
   "metadata": {
    "pycharm": {
     "name": "#%% md\n"
    }
   },
   "source": [
    "### Straightness Tables"
   ]
  },
  {
   "cell_type": "code",
   "execution_count": null,
   "metadata": {
    "pycharm": {
     "name": "#%%\n"
    }
   },
   "outputs": [],
   "source": [
    "for straightness_table in single_flight.get_straightness_tables():\n",
    "    print(straightness_table)"
   ]
  },
  {
   "cell_type": "markdown",
   "metadata": {
    "pycharm": {
     "name": "#%% md\n"
    }
   },
   "source": [
    "### Bird size"
   ]
  },
  {
   "cell_type": "code",
   "execution_count": null,
   "metadata": {
    "pycharm": {
     "name": "#%%\n"
    }
   },
   "outputs": [],
   "source": [
    "# Number of samples\n",
    "N = len(single_flight.sizes)\n",
    "\n",
    "x = np.linspace(0, len(single_flight.sizes) * 1 / 30, len(single_flight.sizes))\n",
    "plt.xlabel('seconds')\n",
    "plt.ylabel('bb area')\n",
    "plt.plot(x, single_flight.sizes, x, np.repeat(single_flight.avg_size, len(single_flight.sizes)), '--')"
   ]
  },
  {
   "cell_type": "code",
   "execution_count": null,
   "metadata": {
    "pycharm": {
     "name": "#%%\n"
    }
   },
   "outputs": [],
   "source": [
    "x = np.linspace(0, len(single_flight.sizes) * 1 / 30, len(single_flight.sizes))\n",
    "\n",
    "heights = [bb.height for bb in single_flight.bounding_boxes]\n",
    "widths = [bb.width for bb in single_flight.bounding_boxes]\n",
    "avg_height = np.repeat(np.average(heights), len(single_flight.sizes))\n",
    "avg_width = np.repeat(np.average(widths), len(single_flight.sizes))\n",
    "plt.plot(x, heights, \"g\", label=\"height\")\n",
    "plt.plot(x, avg_height, 'g--', label=\"avg_height\")\n",
    "plt.plot(x, widths, \"r\", label=\"width\")\n",
    "plt.plot(x, avg_width, 'r--', label=\"avg_width\")\n",
    "\n",
    "plt.legend()\n",
    "plt.title(\"Bounding box sizes over time\", fontsize=15)\n",
    "\n",
    "plt.xlabel('seconds')\n",
    "plt.ylabel('pixel')\n"
   ]
  },
  {
   "cell_type": "markdown",
   "metadata": {
    "pycharm": {
     "name": "#%% md\n"
    }
   },
   "source": [
    "### Wing Flap Frequency"
   ]
  },
  {
   "cell_type": "code",
   "execution_count": null,
   "metadata": {
    "pycharm": {
     "name": "#%%\n"
    }
   },
   "outputs": [],
   "source": [
    "from scipy.fft import fft, fftfreq\n",
    "from matplotlib.pyplot import figure\n",
    "\n",
    "\n",
    "_, xf, yf = single_flight.calc_wing_flap_freq()\n",
    "\n",
    "figure(figsize=(8, 6), dpi=100)\n",
    "plt.xlabel('flaps per second')\n",
    "plt.ylabel('Frequency Domain Magnitude')\n",
    "plt.plot(xf, np.abs(yf), )\n",
    "plt.ticklabel_format(useOffset=False)\n",
    "plt.show()\n",
    "\n",
    "\n",
    "\n",
    "print(\"--- Naive sliding window ---\")\n",
    "\n",
    "a = np.abs(yf)[2:]\n",
    "n=len(a)\n",
    "k=4\n",
    "ms=-10**6\n",
    "ws=sum(a[:k])\n",
    "res = []\n",
    "for i in range(n-k):\n",
    "    if ws>ms:\n",
    "        pos = i\n",
    "        res.append(xf[2:][pos])\n",
    "    ms=max(ms,ws)\n",
    "    ws=ws-a[i]+a[i+k]\n",
    "ms=max(ms, ws)\n",
    "#print(pos)\n",
    "#print(xf[2:][pos])\n",
    "print(f\"Frequency: {res[-1]}\")\n",
    "print(\"Top candidates:\")\n",
    "print(res)\n"
   ]
  },
  {
   "cell_type": "markdown",
   "metadata": {
    "pycharm": {
     "name": "#%% md\n"
    }
   },
   "source": [
    "### Histogram of Velocity"
   ]
  },
  {
   "cell_type": "code",
   "execution_count": null,
   "metadata": {
    "pycharm": {
     "name": "#%%\n"
    }
   },
   "outputs": [],
   "source": [
    "\n",
    "v = speed_ensemble([single_flight.y_traj], step=1)\n",
    "plot_velocity_hist(v, bins=5)"
   ]
  },
  {
   "cell_type": "markdown",
   "metadata": {
    "pycharm": {
     "name": "#%% md\n"
    }
   },
   "source": [
    "### Histogram of Turning Angles"
   ]
  },
  {
   "cell_type": "code",
   "execution_count": null,
   "metadata": {
    "pycharm": {
     "name": "#%%\n"
    }
   },
   "outputs": [],
   "source": []
  }
 ],
 "metadata": {
  "celltoolbar": "Tags",
  "kernelspec": {
   "display_name": "Python 3 (ipykernel)",
   "language": "python",
   "name": "python3"
  },
  "language_info": {
   "codemirror_mode": {
    "name": "ipython",
    "version": 3
   },
   "file_extension": ".py",
   "mimetype": "text/x-python",
   "name": "python",
   "nbconvert_exporter": "python",
   "pygments_lexer": "ipython3",
   "version": "3.9.5"
  }
 },
 "nbformat": 4,
 "nbformat_minor": 4
}
